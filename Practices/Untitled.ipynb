{
 "cells": [
  {
   "cell_type": "code",
   "execution_count": 1,
   "id": "5a9d6faa-30d1-47a0-a526-4353d8402e9a",
   "metadata": {},
   "outputs": [
    {
     "ename": "ModuleNotFoundError",
     "evalue": "No module named 'graphviz'",
     "output_type": "error",
     "traceback": [
      "\u001b[1;31m---------------------------------------------------------------------------\u001b[0m",
      "\u001b[1;31mModuleNotFoundError\u001b[0m                       Traceback (most recent call last)",
      "Cell \u001b[1;32mIn[1], line 1\u001b[0m\n\u001b[1;32m----> 1\u001b[0m \u001b[38;5;28;01mfrom\u001b[39;00m \u001b[38;5;21;01mgraphviz\u001b[39;00m \u001b[38;5;28;01mimport\u001b[39;00m Digraph\n\u001b[0;32m      3\u001b[0m \u001b[38;5;66;03m# Create a new Digraph\u001b[39;00m\n\u001b[0;32m      4\u001b[0m dot \u001b[38;5;241m=\u001b[39m Digraph()\n",
      "\u001b[1;31mModuleNotFoundError\u001b[0m: No module named 'graphviz'"
     ]
    }
   ],
   "source": [
    "from graphviz import Digraph\n",
    "\n",
    "# Create a new Digraph\n",
    "dot = Digraph()\n",
    "\n",
    "# Define the class signupStudent\n",
    "dot.node('signupStudent', '''\n",
    "<<table border=\"0\" cellborder=\"1\" cellspacing=\"0\">\n",
    "  <tr><td bgcolor=\"lightblue\" colspan=\"2\">signupStudent</td></tr>\n",
    "  <tr><td align=\"left\" colspan=\"2\">- email: QString</td></tr>\n",
    "  <tr><td align=\"left\" colspan=\"2\">- user_name: QString</td></tr>\n",
    "  <tr><td align=\"left\" colspan=\"2\">- pass1: QString</td></tr>\n",
    "  <tr><td align=\"left\" colspan=\"2\">- pass: QString</td></tr>\n",
    "  <tr><td align=\"left\" colspan=\"2\">+ signupStudent()</td></tr>\n",
    "  <tr><td align=\"left\" colspan=\"2\">+ signupStudent(email: QString, user_name: QString, pass1: QString, pass: QString)</td></tr>\n",
    "  <tr><td align=\"left\" colspan=\"2\">+ signupStudent(email: QString, user_name: QString)</td></tr>\n",
    "  <tr><td align=\"left\" colspan=\"2\">+ insertinto(email: QString, user_name: QString, pass: QString): int</td></tr>\n",
    "</table>>\n",
    "''')\n",
    "\n",
    "# Render the UML diagram\n",
    "dot.render('/mnt/data/signupStudent_class_diagram', format='png', cleanup=False)\n",
    "\n",
    "'/mnt/data/signupStudent_class_diagram.png'\n"
   ]
  },
  {
   "cell_type": "code",
   "execution_count": null,
   "id": "4f8775eb-a045-4b95-9b36-a6e22ad60027",
   "metadata": {},
   "outputs": [],
   "source": []
  }
 ],
 "metadata": {
  "kernelspec": {
   "display_name": "Python 3 (ipykernel)",
   "language": "python",
   "name": "python3"
  },
  "language_info": {
   "codemirror_mode": {
    "name": "ipython",
    "version": 3
   },
   "file_extension": ".py",
   "mimetype": "text/x-python",
   "name": "python",
   "nbconvert_exporter": "python",
   "pygments_lexer": "ipython3",
   "version": "3.11.5"
  }
 },
 "nbformat": 4,
 "nbformat_minor": 5
}
