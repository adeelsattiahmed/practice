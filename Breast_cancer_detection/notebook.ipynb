{
 "cells": [
  {
   "cell_type": "code",
   "execution_count": 1,
   "id": "bd54f49e-9181-4bea-b62a-66dbf088d030",
   "metadata": {},
   "outputs": [],
   "source": [
    "import numpy as np \n",
    "import matplotlib.pyplot as plt \n",
    "import tensorflow as tf \n",
    "from tensorflow import keras\n",
    "from tensorflow.keras import layers,datasets\n",
    "from tensorflow.keras.models import Sequential\n",
    "import sklearn.datasets\n",
    "import pandas as pd\n",
    "from sklearn.model_selection import train_test_split\n",
    "from sklearn.preprocessing import MinMaxScaler"
   ]
  },
  {
   "cell_type": "code",
   "execution_count": 2,
   "id": "0b3793c6-b4b7-40d2-92ca-bb4edf59294f",
   "metadata": {},
   "outputs": [
    {
     "data": {
      "text/plain": [
       "{'data': array([[1.799e+01, 1.038e+01, 1.228e+02, ..., 2.654e-01, 4.601e-01,\n",
       "         1.189e-01],\n",
       "        [2.057e+01, 1.777e+01, 1.329e+02, ..., 1.860e-01, 2.750e-01,\n",
       "         8.902e-02],\n",
       "        [1.969e+01, 2.125e+01, 1.300e+02, ..., 2.430e-01, 3.613e-01,\n",
       "         8.758e-02],\n",
       "        ...,\n",
       "        [1.660e+01, 2.808e+01, 1.083e+02, ..., 1.418e-01, 2.218e-01,\n",
       "         7.820e-02],\n",
       "        [2.060e+01, 2.933e+01, 1.401e+02, ..., 2.650e-01, 4.087e-01,\n",
       "         1.240e-01],\n",
       "        [7.760e+00, 2.454e+01, 4.792e+01, ..., 0.000e+00, 2.871e-01,\n",
       "         7.039e-02]]),\n",
       " 'target': array([0, 0, 0, 0, 0, 0, 0, 0, 0, 0, 0, 0, 0, 0, 0, 0, 0, 0, 0, 1, 1, 1,\n",
       "        0, 0, 0, 0, 0, 0, 0, 0, 0, 0, 0, 0, 0, 0, 0, 1, 0, 0, 0, 0, 0, 0,\n",
       "        0, 0, 1, 0, 1, 1, 1, 1, 1, 0, 0, 1, 0, 0, 1, 1, 1, 1, 0, 1, 0, 0,\n",
       "        1, 1, 1, 1, 0, 1, 0, 0, 1, 0, 1, 0, 0, 1, 1, 1, 0, 0, 1, 0, 0, 0,\n",
       "        1, 1, 1, 0, 1, 1, 0, 0, 1, 1, 1, 0, 0, 1, 1, 1, 1, 0, 1, 1, 0, 1,\n",
       "        1, 1, 1, 1, 1, 1, 1, 0, 0, 0, 1, 0, 0, 1, 1, 1, 0, 0, 1, 0, 1, 0,\n",
       "        0, 1, 0, 0, 1, 1, 0, 1, 1, 0, 1, 1, 1, 1, 0, 1, 1, 1, 1, 1, 1, 1,\n",
       "        1, 1, 0, 1, 1, 1, 1, 0, 0, 1, 0, 1, 1, 0, 0, 1, 1, 0, 0, 1, 1, 1,\n",
       "        1, 0, 1, 1, 0, 0, 0, 1, 0, 1, 0, 1, 1, 1, 0, 1, 1, 0, 0, 1, 0, 0,\n",
       "        0, 0, 1, 0, 0, 0, 1, 0, 1, 0, 1, 1, 0, 1, 0, 0, 0, 0, 1, 1, 0, 0,\n",
       "        1, 1, 1, 0, 1, 1, 1, 1, 1, 0, 0, 1, 1, 0, 1, 1, 0, 0, 1, 0, 1, 1,\n",
       "        1, 1, 0, 1, 1, 1, 1, 1, 0, 1, 0, 0, 0, 0, 0, 0, 0, 0, 0, 0, 0, 0,\n",
       "        0, 0, 1, 1, 1, 1, 1, 1, 0, 1, 0, 1, 1, 0, 1, 1, 0, 1, 0, 0, 1, 1,\n",
       "        1, 1, 1, 1, 1, 1, 1, 1, 1, 1, 1, 0, 1, 1, 0, 1, 0, 1, 1, 1, 1, 1,\n",
       "        1, 1, 1, 1, 1, 1, 1, 1, 1, 0, 1, 1, 1, 0, 1, 0, 1, 1, 1, 1, 0, 0,\n",
       "        0, 1, 1, 1, 1, 0, 1, 0, 1, 0, 1, 1, 1, 0, 1, 1, 1, 1, 1, 1, 1, 0,\n",
       "        0, 0, 1, 1, 1, 1, 1, 1, 1, 1, 1, 1, 1, 0, 0, 1, 0, 0, 0, 1, 0, 0,\n",
       "        1, 1, 1, 1, 1, 0, 1, 1, 1, 1, 1, 0, 1, 1, 1, 0, 1, 1, 0, 0, 1, 1,\n",
       "        1, 1, 1, 1, 0, 1, 1, 1, 1, 1, 1, 1, 0, 1, 1, 1, 1, 1, 0, 1, 1, 0,\n",
       "        1, 1, 1, 1, 1, 1, 1, 1, 1, 1, 1, 1, 0, 1, 0, 0, 1, 0, 1, 1, 1, 1,\n",
       "        1, 0, 1, 1, 0, 1, 0, 1, 1, 0, 1, 0, 1, 1, 1, 1, 1, 1, 1, 1, 0, 0,\n",
       "        1, 1, 1, 1, 1, 1, 0, 1, 1, 1, 1, 1, 1, 1, 1, 1, 1, 0, 1, 1, 1, 1,\n",
       "        1, 1, 1, 0, 1, 0, 1, 1, 0, 1, 1, 1, 1, 1, 0, 0, 1, 0, 1, 0, 1, 1,\n",
       "        1, 1, 1, 0, 1, 1, 0, 1, 0, 1, 0, 0, 1, 1, 1, 0, 1, 1, 1, 1, 1, 1,\n",
       "        1, 1, 1, 1, 1, 0, 1, 0, 0, 1, 1, 1, 1, 1, 1, 1, 1, 1, 1, 1, 1, 1,\n",
       "        1, 1, 1, 1, 1, 1, 1, 1, 1, 1, 1, 1, 0, 0, 0, 0, 0, 0, 1]),\n",
       " 'frame': None,\n",
       " 'target_names': array(['malignant', 'benign'], dtype='<U9'),\n",
       " 'DESCR': '.. _breast_cancer_dataset:\\n\\nBreast cancer wisconsin (diagnostic) dataset\\n--------------------------------------------\\n\\n**Data Set Characteristics:**\\n\\n:Number of Instances: 569\\n\\n:Number of Attributes: 30 numeric, predictive attributes and the class\\n\\n:Attribute Information:\\n    - radius (mean of distances from center to points on the perimeter)\\n    - texture (standard deviation of gray-scale values)\\n    - perimeter\\n    - area\\n    - smoothness (local variation in radius lengths)\\n    - compactness (perimeter^2 / area - 1.0)\\n    - concavity (severity of concave portions of the contour)\\n    - concave points (number of concave portions of the contour)\\n    - symmetry\\n    - fractal dimension (\"coastline approximation\" - 1)\\n\\n    The mean, standard error, and \"worst\" or largest (mean of the three\\n    worst/largest values) of these features were computed for each image,\\n    resulting in 30 features.  For instance, field 0 is Mean Radius, field\\n    10 is Radius SE, field 20 is Worst Radius.\\n\\n    - class:\\n            - WDBC-Malignant\\n            - WDBC-Benign\\n\\n:Summary Statistics:\\n\\n===================================== ====== ======\\n                                        Min    Max\\n===================================== ====== ======\\nradius (mean):                        6.981  28.11\\ntexture (mean):                       9.71   39.28\\nperimeter (mean):                     43.79  188.5\\narea (mean):                          143.5  2501.0\\nsmoothness (mean):                    0.053  0.163\\ncompactness (mean):                   0.019  0.345\\nconcavity (mean):                     0.0    0.427\\nconcave points (mean):                0.0    0.201\\nsymmetry (mean):                      0.106  0.304\\nfractal dimension (mean):             0.05   0.097\\nradius (standard error):              0.112  2.873\\ntexture (standard error):             0.36   4.885\\nperimeter (standard error):           0.757  21.98\\narea (standard error):                6.802  542.2\\nsmoothness (standard error):          0.002  0.031\\ncompactness (standard error):         0.002  0.135\\nconcavity (standard error):           0.0    0.396\\nconcave points (standard error):      0.0    0.053\\nsymmetry (standard error):            0.008  0.079\\nfractal dimension (standard error):   0.001  0.03\\nradius (worst):                       7.93   36.04\\ntexture (worst):                      12.02  49.54\\nperimeter (worst):                    50.41  251.2\\narea (worst):                         185.2  4254.0\\nsmoothness (worst):                   0.071  0.223\\ncompactness (worst):                  0.027  1.058\\nconcavity (worst):                    0.0    1.252\\nconcave points (worst):               0.0    0.291\\nsymmetry (worst):                     0.156  0.664\\nfractal dimension (worst):            0.055  0.208\\n===================================== ====== ======\\n\\n:Missing Attribute Values: None\\n\\n:Class Distribution: 212 - Malignant, 357 - Benign\\n\\n:Creator:  Dr. William H. Wolberg, W. Nick Street, Olvi L. Mangasarian\\n\\n:Donor: Nick Street\\n\\n:Date: November, 1995\\n\\nThis is a copy of UCI ML Breast Cancer Wisconsin (Diagnostic) datasets.\\nhttps://goo.gl/U2Uwz2\\n\\nFeatures are computed from a digitized image of a fine needle\\naspirate (FNA) of a breast mass.  They describe\\ncharacteristics of the cell nuclei present in the image.\\n\\nSeparating plane described above was obtained using\\nMultisurface Method-Tree (MSM-T) [K. P. Bennett, \"Decision Tree\\nConstruction Via Linear Programming.\" Proceedings of the 4th\\nMidwest Artificial Intelligence and Cognitive Science Society,\\npp. 97-101, 1992], a classification method which uses linear\\nprogramming to construct a decision tree.  Relevant features\\nwere selected using an exhaustive search in the space of 1-4\\nfeatures and 1-3 separating planes.\\n\\nThe actual linear program used to obtain the separating plane\\nin the 3-dimensional space is that described in:\\n[K. P. Bennett and O. L. Mangasarian: \"Robust Linear\\nProgramming Discrimination of Two Linearly Inseparable Sets\",\\nOptimization Methods and Software 1, 1992, 23-34].\\n\\nThis database is also available through the UW CS ftp server:\\n\\nftp ftp.cs.wisc.edu\\ncd math-prog/cpo-dataset/machine-learn/WDBC/\\n\\n.. dropdown:: References\\n\\n  - W.N. Street, W.H. Wolberg and O.L. Mangasarian. Nuclear feature extraction\\n    for breast tumor diagnosis. IS&T/SPIE 1993 International Symposium on\\n    Electronic Imaging: Science and Technology, volume 1905, pages 861-870,\\n    San Jose, CA, 1993.\\n  - O.L. Mangasarian, W.N. Street and W.H. Wolberg. Breast cancer diagnosis and\\n    prognosis via linear programming. Operations Research, 43(4), pages 570-577,\\n    July-August 1995.\\n  - W.H. Wolberg, W.N. Street, and O.L. Mangasarian. Machine learning techniques\\n    to diagnose breast cancer from fine-needle aspirates. Cancer Letters 77 (1994)\\n    163-171.\\n',\n",
       " 'feature_names': array(['mean radius', 'mean texture', 'mean perimeter', 'mean area',\n",
       "        'mean smoothness', 'mean compactness', 'mean concavity',\n",
       "        'mean concave points', 'mean symmetry', 'mean fractal dimension',\n",
       "        'radius error', 'texture error', 'perimeter error', 'area error',\n",
       "        'smoothness error', 'compactness error', 'concavity error',\n",
       "        'concave points error', 'symmetry error',\n",
       "        'fractal dimension error', 'worst radius', 'worst texture',\n",
       "        'worst perimeter', 'worst area', 'worst smoothness',\n",
       "        'worst compactness', 'worst concavity', 'worst concave points',\n",
       "        'worst symmetry', 'worst fractal dimension'], dtype='<U23'),\n",
       " 'filename': 'breast_cancer.csv',\n",
       " 'data_module': 'sklearn.datasets.data'}"
      ]
     },
     "execution_count": 2,
     "metadata": {},
     "output_type": "execute_result"
    }
   ],
   "source": [
    "Breast_cancer_datset=sklearn.datasets.load_breast_cancer()\n",
    "Breast_cancer_datset"
   ]
  },
  {
   "cell_type": "code",
   "execution_count": 3,
   "id": "1e74c67d-15c1-4370-85d9-c5309c81dd43",
   "metadata": {},
   "outputs": [
    {
     "data": {
      "text/plain": [
       "['DESCR',\n",
       " 'data',\n",
       " 'data_module',\n",
       " 'feature_names',\n",
       " 'filename',\n",
       " 'frame',\n",
       " 'target',\n",
       " 'target_names']"
      ]
     },
     "execution_count": 3,
     "metadata": {},
     "output_type": "execute_result"
    }
   ],
   "source": [
    "dir(Breast_cancer_datset)"
   ]
  },
  {
   "cell_type": "code",
   "execution_count": 4,
   "id": "d03724d0-e170-4c64-b46b-fdf2ead92135",
   "metadata": {},
   "outputs": [],
   "source": [
    "y=Breast_cancer_datset.target"
   ]
  },
  {
   "cell_type": "code",
   "execution_count": 5,
   "id": "28a17f9e-7eb6-4307-8860-1895c5d32a6e",
   "metadata": {},
   "outputs": [],
   "source": [
    "X=pd.DataFrame(Breast_cancer_datset.data)"
   ]
  },
  {
   "cell_type": "code",
   "execution_count": 6,
   "id": "fdfb7c71-6a30-4edd-a827-5512d68e92eb",
   "metadata": {},
   "outputs": [
    {
     "data": {
      "text/plain": [
       "(569, 30)"
      ]
     },
     "execution_count": 6,
     "metadata": {},
     "output_type": "execute_result"
    }
   ],
   "source": [
    "X.shape"
   ]
  },
  {
   "cell_type": "code",
   "execution_count": 7,
   "id": "ac2a275e-956d-42dd-8162-1b30d2ad9026",
   "metadata": {},
   "outputs": [
    {
     "data": {
      "text/plain": [
       "(((455, 30), (114, 30)), ((455,), (114,)))"
      ]
     },
     "execution_count": 7,
     "metadata": {},
     "output_type": "execute_result"
    }
   ],
   "source": [
    "X_train,X_test,y_train,y_test=train_test_split(X,y,test_size=0.2,stratify=y,random_state=42)\n",
    "(X_train.shape,X_test.shape),(y_train.shape,y_test.shape)"
   ]
  },
  {
   "cell_type": "code",
   "execution_count": 8,
   "id": "feb5fffe-ef87-4872-b42d-11ca5554b76b",
   "metadata": {},
   "outputs": [],
   "source": [
    "#Scaling the data \n",
    "MMS=MinMaxScaler()\n",
    "X_train_scaled=MMS.fit_transform(X_train)\n",
    "X_test_scaled=MMS.transform(X_test)"
   ]
  },
  {
   "cell_type": "code",
   "execution_count": 19,
   "id": "486b42a5-fc5b-415c-85c3-b46e4e2ceb10",
   "metadata": {},
   "outputs": [
    {
     "name": "stdout",
     "output_type": "stream",
     "text": [
      "Epoch 1/10\n"
     ]
    },
    {
     "name": "stderr",
     "output_type": "stream",
     "text": [
      "C:\\Users\\user\\AppData\\Local\\Programs\\Python\\Python311\\Lib\\site-packages\\keras\\src\\layers\\reshaping\\flatten.py:37: UserWarning: Do not pass an `input_shape`/`input_dim` argument to a layer. When using Sequential models, prefer using an `Input(shape)` object as the first layer in the model instead.\n",
      "  super().__init__(**kwargs)\n"
     ]
    },
    {
     "name": "stdout",
     "output_type": "stream",
     "text": [
      "\u001b[1m13/13\u001b[0m \u001b[32m━━━━━━━━━━━━━━━━━━━━\u001b[0m\u001b[37m\u001b[0m \u001b[1m1s\u001b[0m 33ms/step - accuracy: 0.6783 - loss: 0.6578 - val_accuracy: 0.6739 - val_loss: 0.6542\n",
      "Epoch 2/10\n",
      "\u001b[1m13/13\u001b[0m \u001b[32m━━━━━━━━━━━━━━━━━━━━\u001b[0m\u001b[37m\u001b[0m \u001b[1m0s\u001b[0m 6ms/step - accuracy: 0.6811 - loss: 0.6208 - val_accuracy: 0.7391 - val_loss: 0.6298\n",
      "Epoch 3/10\n",
      "\u001b[1m13/13\u001b[0m \u001b[32m━━━━━━━━━━━━━━━━━━━━\u001b[0m\u001b[37m\u001b[0m \u001b[1m0s\u001b[0m 6ms/step - accuracy: 0.7330 - loss: 0.6171 - val_accuracy: 0.7609 - val_loss: 0.6089\n",
      "Epoch 4/10\n",
      "\u001b[1m13/13\u001b[0m \u001b[32m━━━━━━━━━━━━━━━━━━━━\u001b[0m\u001b[37m\u001b[0m \u001b[1m0s\u001b[0m 7ms/step - accuracy: 0.7726 - loss: 0.5857 - val_accuracy: 0.7826 - val_loss: 0.5883\n",
      "Epoch 5/10\n",
      "\u001b[1m13/13\u001b[0m \u001b[32m━━━━━━━━━━━━━━━━━━━━\u001b[0m\u001b[37m\u001b[0m \u001b[1m0s\u001b[0m 7ms/step - accuracy: 0.7417 - loss: 0.5707 - val_accuracy: 0.8261 - val_loss: 0.5596\n",
      "Epoch 6/10\n",
      "\u001b[1m13/13\u001b[0m \u001b[32m━━━━━━━━━━━━━━━━━━━━\u001b[0m\u001b[37m\u001b[0m \u001b[1m0s\u001b[0m 5ms/step - accuracy: 0.7442 - loss: 0.5563 - val_accuracy: 0.8261 - val_loss: 0.5394\n",
      "Epoch 7/10\n",
      "\u001b[1m13/13\u001b[0m \u001b[32m━━━━━━━━━━━━━━━━━━━━\u001b[0m\u001b[37m\u001b[0m \u001b[1m0s\u001b[0m 8ms/step - accuracy: 0.7694 - loss: 0.5532 - val_accuracy: 0.8261 - val_loss: 0.5207\n",
      "Epoch 8/10\n",
      "\u001b[1m13/13\u001b[0m \u001b[32m━━━━━━━━━━━━━━━━━━━━\u001b[0m\u001b[37m\u001b[0m \u001b[1m0s\u001b[0m 6ms/step - accuracy: 0.8291 - loss: 0.4898 - val_accuracy: 0.8478 - val_loss: 0.4998\n",
      "Epoch 9/10\n",
      "\u001b[1m13/13\u001b[0m \u001b[32m━━━━━━━━━━━━━━━━━━━━\u001b[0m\u001b[37m\u001b[0m \u001b[1m0s\u001b[0m 5ms/step - accuracy: 0.8217 - loss: 0.4886 - val_accuracy: 0.8261 - val_loss: 0.4753\n",
      "Epoch 10/10\n",
      "\u001b[1m13/13\u001b[0m \u001b[32m━━━━━━━━━━━━━━━━━━━━\u001b[0m\u001b[37m\u001b[0m \u001b[1m0s\u001b[0m 6ms/step - accuracy: 0.8064 - loss: 0.4777 - val_accuracy: 0.8478 - val_loss: 0.4601\n"
     ]
    }
   ],
   "source": [
    "#Now creating a Artifical neural Network for the dataset \n",
    "Model=keras.Sequential([\n",
    "    keras.layers.Flatten(input_shape=(30,)),\n",
    "    keras.layers.Dense(20,activation='relu'),\n",
    "    keras.layers.Dropout(0.5),\n",
    "    keras.layers.Dense(2,activation='sigmoid')\n",
    "])\n",
    "\n",
    "Model.compile(\n",
    "    metrics=['accuracy'], optimizer='adam', loss='sparse_categorical_crossentropy'\n",
    ")\n",
    "\n",
    "history = Model.fit(X_train_scaled,y_train,validation_split=0.1,epochs=10)"
   ]
  },
  {
   "cell_type": "code",
   "execution_count": 20,
   "id": "750ee259-028a-4145-a56a-9a3ef5628fed",
   "metadata": {},
   "outputs": [
    {
     "name": "stdout",
     "output_type": "stream",
     "text": [
      "\u001b[1m15/15\u001b[0m \u001b[32m━━━━━━━━━━━━━━━━━━━━\u001b[0m\u001b[37m\u001b[0m \u001b[1m0s\u001b[0m 1ms/step - accuracy: 0.8777 - loss: 0.4271 \n"
     ]
    },
    {
     "data": {
      "text/plain": [
       "[0.4338127672672272, 0.8791208863258362]"
      ]
     },
     "execution_count": 20,
     "metadata": {},
     "output_type": "execute_result"
    }
   ],
   "source": [
    "Model.evaluate(X_train_scaled,y_train)"
   ]
  },
  {
   "cell_type": "code",
   "execution_count": 21,
   "id": "913c201c-57a7-465e-b6cd-74c39bb36f31",
   "metadata": {},
   "outputs": [
    {
     "name": "stdout",
     "output_type": "stream",
     "text": [
      "\u001b[1m4/4\u001b[0m \u001b[32m━━━━━━━━━━━━━━━━━━━━\u001b[0m\u001b[37m\u001b[0m \u001b[1m0s\u001b[0m 6ms/step - accuracy: 0.9101 - loss: 0.4362 \n"
     ]
    },
    {
     "data": {
      "text/plain": [
       "[0.43102705478668213, 0.9210526347160339]"
      ]
     },
     "execution_count": 21,
     "metadata": {},
     "output_type": "execute_result"
    }
   ],
   "source": [
    "Model.evaluate(X_test_scaled,y_test)"
   ]
  },
  {
   "cell_type": "code",
   "execution_count": 22,
   "id": "e3385aad-03b6-46f9-a01b-2d9a039e0281",
   "metadata": {},
   "outputs": [
    {
     "data": {
      "text/plain": [
       "<matplotlib.legend.Legend at 0x28e9efb2250>"
      ]
     },
     "execution_count": 22,
     "metadata": {},
     "output_type": "execute_result"
    },
    {
     "data": {
      "image/png": "[encoded data removed]",
      "text/plain": [
       "<Figure size 640x480 with 1 Axes>"
      ]
     },
     "metadata": {},
     "output_type": "display_data"
    }
   ],
   "source": [
    "plt.plot(history.history['accuracy'])\n",
    "plt.plot(history.history['val_accuracy'])\n",
    "\n",
    "plt.title('model accuracy')\n",
    "plt.ylabel('accuracy')\n",
    "plt.xlabel('epoch')\n",
    "\n",
    "plt.legend(['training data', 'validation data'], loc = 'lower right')"
   ]
  },
  {
   "cell_type": "code",
   "execution_count": 23,
   "id": "57fb4268-805f-44de-b1dc-c5f80c95a6d3",
   "metadata": {},
   "outputs": [
    {
     "data": {
      "text/plain": [
       "<matplotlib.legend.Legend at 0x28e9eb82250>"
      ]
     },
     "execution_count": 23,
     "metadata": {},
     "output_type": "execute_result"
    },
    {
     "data": {
      "image/png": "[encoded data removed]",
      "text/plain": [
       "<Figure size 640x480 with 1 Axes>"
      ]
     },
     "metadata": {},
     "output_type": "display_data"
    }
   ],
   "source": [
    "plt.plot(history.history['loss'])\n",
    "plt.plot(history.history['val_loss'])\n",
    "\n",
    "plt.title('model loss')\n",
    "plt.ylabel('loss')\n",
    "plt.xlabel('epoch')\n",
    "\n",
    "plt.legend(['training data', 'validation data'], loc = 'upper right')"
   ]
  },
  {
   "cell_type": "code",
   "execution_count": 12,
   "id": "14f5c666-b423-40e8-8a68-a72317834231",
   "metadata": {},
   "outputs": [
    {
     "name": "stdout",
     "output_type": "stream",
     "text": [
      "\u001b[1m4/4\u001b[0m \u001b[32m━━━━━━━━━━━━━━━━━━━━\u001b[0m\u001b[37m\u001b[0m \u001b[1m0s\u001b[0m 13ms/step\n"
     ]
    },
    {
     "data": {
      "text/plain": [
       "array([[0.5586351 , 0.24782315],\n",
       "       [0.41245282, 0.5852659 ],\n",
       "       [0.40983203, 0.49773002],\n",
       "       [0.45390943, 0.44715396],\n",
       "       [0.5431236 , 0.22361869],\n",
       "       [0.47497657, 0.4700992 ],\n",
       "       [0.4265538 , 0.619257  ],\n",
       "       [0.53981435, 0.3147902 ],\n",
       "       [0.47557464, 0.34111857],\n",
       "       [0.5793564 , 0.22964835],\n",
       "       [0.40890118, 0.56658137],\n",
       "       [0.4652627 , 0.40446684],\n",
       "       [0.43996903, 0.5332141 ],\n",
       "       [0.47645628, 0.36936024],\n",
       "       [0.42868596, 0.40647376],\n",
       "       [0.43005013, 0.4617167 ],\n",
       "       [0.5005691 , 0.4482548 ],\n",
       "       [0.37205544, 0.58635193],\n",
       "       [0.44685203, 0.52250713],\n",
       "       [0.43854278, 0.54659456],\n",
       "       [0.47672176, 0.40910265],\n",
       "       [0.45208943, 0.39885092],\n",
       "       [0.39348832, 0.60854876],\n",
       "       [0.51258147, 0.6025968 ],\n",
       "       [0.40151706, 0.5798718 ],\n",
       "       [0.45736942, 0.45722288],\n",
       "       [0.52164376, 0.22196999],\n",
       "       [0.41277984, 0.58188534],\n",
       "       [0.41268802, 0.58805823],\n",
       "       [0.36276492, 0.58455646],\n",
       "       [0.5265477 , 0.4753304 ],\n",
       "       [0.4614824 , 0.5748998 ],\n",
       "       [0.41762468, 0.49869925],\n",
       "       [0.38101572, 0.57264876],\n",
       "       [0.48484725, 0.3592136 ],\n",
       "       [0.35337603, 0.53807867],\n",
       "       [0.38909546, 0.58612347],\n",
       "       [0.36936215, 0.61912525],\n",
       "       [0.411499  , 0.4815783 ],\n",
       "       [0.5102775 , 0.32668486],\n",
       "       [0.41970855, 0.59395146],\n",
       "       [0.41178885, 0.5697416 ],\n",
       "       [0.43967173, 0.49447122],\n",
       "       [0.49561077, 0.30651253],\n",
       "       [0.42496917, 0.445619  ],\n",
       "       [0.46753955, 0.46748167],\n",
       "       [0.3988716 , 0.6158577 ],\n",
       "       [0.36285713, 0.638877  ],\n",
       "       [0.45681214, 0.4769958 ],\n",
       "       [0.5195878 , 0.35993326],\n",
       "       [0.49212077, 0.47521985],\n",
       "       [0.4472341 , 0.44105536],\n",
       "       [0.3532162 , 0.6486794 ],\n",
       "       [0.4572971 , 0.46598867],\n",
       "       [0.35922018, 0.6032152 ],\n",
       "       [0.39726016, 0.58522624],\n",
       "       [0.42570108, 0.5798904 ],\n",
       "       [0.5100032 , 0.39106432],\n",
       "       [0.4934847 , 0.2647696 ],\n",
       "       [0.39738134, 0.52878505],\n",
       "       [0.41008765, 0.55756116],\n",
       "       [0.38870865, 0.61951613],\n",
       "       [0.41458374, 0.54969126],\n",
       "       [0.4297887 , 0.4945089 ],\n",
       "       [0.5794556 , 0.3285136 ],\n",
       "       [0.4629968 , 0.43872514],\n",
       "       [0.48835668, 0.45407662],\n",
       "       [0.39876717, 0.5478614 ],\n",
       "       [0.37887874, 0.5175712 ],\n",
       "       [0.42421755, 0.4992303 ],\n",
       "       [0.43274817, 0.5111078 ],\n",
       "       [0.42894801, 0.5226192 ],\n",
       "       [0.37096125, 0.6281881 ],\n",
       "       [0.5355977 , 0.3080412 ],\n",
       "       [0.447671  , 0.39991355],\n",
       "       [0.5266293 , 0.30445632],\n",
       "       [0.52204263, 0.40867734],\n",
       "       [0.46619004, 0.49543527],\n",
       "       [0.40131256, 0.56876266],\n",
       "       [0.45198447, 0.48668367],\n",
       "       [0.41378838, 0.5188618 ],\n",
       "       [0.3742288 , 0.6328686 ],\n",
       "       [0.5191231 , 0.2726427 ],\n",
       "       [0.40986413, 0.60298145],\n",
       "       [0.47927684, 0.4364196 ],\n",
       "       [0.45893857, 0.4907029 ],\n",
       "       [0.40478918, 0.49714687],\n",
       "       [0.43307433, 0.5684031 ],\n",
       "       [0.4239209 , 0.53243786],\n",
       "       [0.42107722, 0.50614476],\n",
       "       [0.48076832, 0.45692608],\n",
       "       [0.37666848, 0.5758492 ],\n",
       "       [0.5333431 , 0.2689153 ],\n",
       "       [0.5274065 , 0.31629267],\n",
       "       [0.45915082, 0.36796433],\n",
       "       [0.4130224 , 0.5996065 ],\n",
       "       [0.52651846, 0.30215216],\n",
       "       [0.36702302, 0.61073256],\n",
       "       [0.39628163, 0.43613333],\n",
       "       [0.48999268, 0.461464  ],\n",
       "       [0.5264379 , 0.34513402],\n",
       "       [0.48648784, 0.27133065],\n",
       "       [0.507818  , 0.43245304],\n",
       "       [0.42142108, 0.52708316],\n",
       "       [0.59351456, 0.1346636 ],\n",
       "       [0.6114868 , 0.07070387],\n",
       "       [0.44200224, 0.5246717 ],\n",
       "       [0.5672146 , 0.3119549 ],\n",
       "       [0.28230315, 0.67817026],\n",
       "       [0.54089916, 0.30524427],\n",
       "       [0.46951836, 0.4946465 ],\n",
       "       [0.46276632, 0.44442067],\n",
       "       [0.45695993, 0.4628502 ],\n",
       "       [0.37056738, 0.585629  ]], dtype=float32)"
      ]
     },
     "execution_count": 12,
     "metadata": {},
     "output_type": "execute_result"
    }
   ],
   "source": [
    "y_pred=Model.predict(X_test_scaled)\n",
    "y_pred"
   ]
  },
  {
   "cell_type": "code",
   "execution_count": 15,
   "id": "9ce6c679-4201-4810-bbb8-ff3f162f7bc5",
   "metadata": {},
   "outputs": [
    {
     "data": {
      "text/plain": [
       "[0, 1, 1, 0, 0, 0, 1]"
      ]
     },
     "execution_count": 15,
     "metadata": {},
     "output_type": "execute_result"
    }
   ],
   "source": [
    "y_predicted=[np.argmax(i) for i in y_pred]\n",
    "y_predicted[:7]"
   ]
  },
  {
   "cell_type": "code",
   "execution_count": 14,
   "id": "5756b754-6962-4113-b318-117dc31131c4",
   "metadata": {},
   "outputs": [
    {
     "data": {
      "text/plain": [
       "array([0, 1, 0, 1, 0, 1, 1])"
      ]
     },
     "execution_count": 14,
     "metadata": {},
     "output_type": "execute_result"
    }
   ],
   "source": [
    "y_test[:7]"
   ]
  },
  {
   "cell_type": "code",
   "execution_count": 16,
   "id": "db189b5c-b62e-414d-8cc6-ac4eebc9399d",
   "metadata": {},
   "outputs": [
    {
     "name": "stdout",
     "output_type": "stream",
     "text": [
      "              precision    recall  f1-score   support\n",
      "\n",
      "           0       0.88      0.77      0.82        48\n",
      "           1       0.85      0.92      0.88        66\n",
      "\n",
      "    accuracy                           0.86       114\n",
      "   macro avg       0.86      0.85      0.85       114\n",
      "weighted avg       0.86      0.86      0.86       114\n",
      "\n"
     ]
    }
   ],
   "source": [
    "from sklearn.metrics import ConfusionMatrixDisplay,confusion_matrix,classification_report\n",
    "print(classification_report(y_predicted,y_test))"
   ]
  },
  {
   "cell_type": "code",
   "execution_count": 17,
   "id": "1425ea1f-07cc-4c78-98fe-036c341a8bd3",
   "metadata": {},
   "outputs": [],
   "source": [
    "cm=confusion_matrix(y_test,y_predicted,labels=[0,1])"
   ]
  },
  {
   "cell_type": "code",
   "execution_count": 18,
   "id": "57edbe70-7e01-46f0-ac00-f53bc3df4164",
   "metadata": {},
   "outputs": [
    {
     "data": {
      "text/plain": [
       "<sklearn.metrics._plot.confusion_matrix.ConfusionMatrixDisplay at 0x28e998387d0>"
      ]
     },
     "execution_count": 18,
     "metadata": {},
     "output_type": "execute_result"
    },
    {
     "data": {
      "image/png": "[encoded data removed]",
      "text/plain": [
       "<Figure size 640x480 with 2 Axes>"
      ]
     },
     "metadata": {},
     "output_type": "display_data"
    }
   ],
   "source": [
    "graph=ConfusionMatrixDisplay(cm,display_labels=[0,1])\n",
    "graph.plot()"
   ]
  },
  {
   "cell_type": "code",
   "execution_count": 24,
   "id": "8c2b0240-1381-4905-866a-4c4061d52d8e",
   "metadata": {},
   "outputs": [
    {
     "name": "stdout",
     "output_type": "stream",
     "text": [
      "\u001b[1m1/1\u001b[0m \u001b[32m━━━━━━━━━━━━━━━━━━━━\u001b[0m\u001b[37m\u001b[0m \u001b[1m0s\u001b[0m 73ms/step\n",
      "[[0.41029087 0.6206885 ]]\n",
      "[1]\n",
      "The tumor is Benign\n"
     ]
    }
   ],
   "source": [
    "input_data = (11.76,21.6,74.72,427.9,0.08637,0.04966,0.01657,0.01115,0.1495,0.05888,0.4062,1.21,2.635,28.47,0.005857,0.009758,0.01168,0.007445,0.02406,0.001769,12.98,25.72,82.98,516.5,0.1085,0.08615,0.05523,0.03715,0.2433,0.06563)\n",
    "\n",
    "# change the input_data to a numpy array\n",
    "input_data_as_numpy_array = np.asarray(input_data)\n",
    "\n",
    "# reshape the numpy array as we are predicting for one data point\n",
    "input_data_reshaped = input_data_as_numpy_array.reshape(1,-1)\n",
    "\n",
    "# standardizing the input data\n",
    "input_data_std = MMS.transform(input_data_reshaped)\n",
    "\n",
    "prediction = Model.predict(input_data_std)\n",
    "print(prediction)\n",
    "\n",
    "prediction_label = [np.argmax(prediction)]\n",
    "print(prediction_label)\n",
    "\n",
    "if(prediction_label[0] == 0):\n",
    "  print('The tumor is Malignant')\n",
    "\n",
    "else:\n",
    "  print('The tumor is Benign')"
   ]
  },
  {
   "cell_type": "code",
   "execution_count": 28,
   "id": "e6673415-79bb-4289-a4fb-534fcc6aa23b",
   "metadata": {},
   "outputs": [
    {
     "data": {
      "text/plain": [
       "(1, 30)"
      ]
     },
     "execution_count": 28,
     "metadata": {},
     "output_type": "execute_result"
    }
   ],
   "source": [
    "input_data_as_numpy_array.reshape(1,-1).shape"
   ]
  },
  {
   "cell_type": "code",
   "execution_count": null,
   "id": "c350d732-e53a-4b80-9f7e-5fdf91644a64",
   "metadata": {},
   "outputs": [],
   "source": []
  }
 ],
 "metadata": {
  "kernelspec": {
   "display_name": "Python 3 (ipykernel)",
   "language": "python",
   "name": "python3"
  },
  "language_info": {
   "codemirror_mode": {
    "name": "ipython",
    "version": 3
   },
   "file_extension": ".py",
   "mimetype": "text/x-python",
   "name": "python",
   "nbconvert_exporter": "python",
   "pygments_lexer": "ipython3",
   "version": "3.11.5"
  }
 },
 "nbformat": 4,
 "nbformat_minor": 5
}
