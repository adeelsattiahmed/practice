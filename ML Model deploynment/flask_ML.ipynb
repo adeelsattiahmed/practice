{
 "cells": [
  {
   "cell_type": "code",
   "execution_count": 1,
   "id": "2502d32b-456b-4e46-96bd-56fbb5c26f4d",
   "metadata": {},
   "outputs": [],
   "source": [
    "import pandas as pd \n",
    "import numpy as np\n",
    "import sklearn\n",
    "import matplotlib.pyplot as plt\n",
    "import seaborn as sns\n",
    "import joblib \n",
    "from sklearn.preprocessing import StandardScaler\n",
    "from sklearn.impute import SimpleImputer\n",
    "from sklearn.compose import ColumnTransformer\n",
    "from sklearn.ensemble import RandomForestRegressor\n",
    "from sklearn.pipeline import Pipeline\n",
    "from sklearn.preprocessing import OneHotEncoder\n",
    "from feature_engine.datetime import DatetimeFeatures\n",
    "\n",
    "\n",
    "from sklearn.svm import SVR\n",
    "\n",
    "from xgboost import XGBRegressor"
   ]
  },
  {
   "cell_type": "code",
   "execution_count": 2,
   "id": "2f806f78-fb9e-46bc-8aca-5a20e219d5c8",
   "metadata": {},
   "outputs": [],
   "source": [
    "from sklearn.linear_model import LinearRegression\n",
    "from sklearn.linear_model import ridge_regression\n",
    "from sklearn.linear_model import Lasso\n",
    "from sklearn.metrics import r2_score,mean_absolute_error,mean_squared_error\n",
    "from sklearn.model_selection import learning_curve"
   ]
  },
  {
   "cell_type": "code",
   "execution_count": 3,
   "id": "d85a7289-c9e2-41ed-867c-db1784568dd6",
   "metadata": {},
   "outputs": [],
   "source": [
    "pd.set_option(\"display.max_columns\",None)"
   ]
  },
  {
   "cell_type": "code",
   "execution_count": 4,
   "id": "a1abb50f-aaab-4c19-bf0c-2d38379ced9e",
   "metadata": {},
   "outputs": [],
   "source": [
    "sklearn.set_config(transform_output=\"default\")"
   ]
  },
  {
   "cell_type": "code",
   "execution_count": 5,
   "id": "e8302e02-2680-4ae4-8352-8428c7daf31d",
   "metadata": {},
   "outputs": [],
   "source": [
    "train_df=pd.read_csv('data/train.csv')\n",
    "val_df=pd.read_csv('data/val.csv')\n",
    "test_df=pd.read_csv('data/test.csv')"
   ]
  },
  {
   "cell_type": "code",
   "execution_count": 6,
   "id": "5d402c9b-dc40-4d81-8f8e-00b75c3ef8bc",
   "metadata": {},
   "outputs": [
    {
     "data": {
      "text/plain": [
       "(640, 10)"
      ]
     },
     "execution_count": 6,
     "metadata": {},
     "output_type": "execute_result"
    }
   ],
   "source": [
    "train_df.shape"
   ]
  },
  {
   "cell_type": "code",
   "execution_count": 7,
   "id": "a2dedb9a-4264-4f62-8320-7e8fba42334f",
   "metadata": {},
   "outputs": [
    {
     "data": {
      "text/html": [
       "<div>\n",
       "<style scoped>\n",
       "    .dataframe tbody tr th:only-of-type {\n",
       "        vertical-align: middle;\n",
       "    }\n",
       "\n",
       "    .dataframe tbody tr th {\n",
       "        vertical-align: top;\n",
       "    }\n",
       "\n",
       "    .dataframe thead th {\n",
       "        text-align: right;\n",
       "    }\n",
       "</style>\n",
       "<table border=\"1\" class=\"dataframe\">\n",
       "  <thead>\n",
       "    <tr style=\"text-align: right;\">\n",
       "      <th></th>\n",
       "      <th>airline</th>\n",
       "      <th>date_of_journey</th>\n",
       "      <th>source</th>\n",
       "      <th>destination</th>\n",
       "      <th>dep_time</th>\n",
       "      <th>arrival_time</th>\n",
       "      <th>duration</th>\n",
       "      <th>total_stops</th>\n",
       "      <th>additional_info</th>\n",
       "      <th>price</th>\n",
       "    </tr>\n",
       "  </thead>\n",
       "  <tbody>\n",
       "    <tr>\n",
       "      <th>0</th>\n",
       "      <td>Pakistan International Airlines</td>\n",
       "      <td>2019-06-21</td>\n",
       "      <td>Peshawar</td>\n",
       "      <td>Sukkur</td>\n",
       "      <td>10:20:00</td>\n",
       "      <td>11:50:00</td>\n",
       "      <td>90</td>\n",
       "      <td>0.0</td>\n",
       "      <td>In-flight meal not included</td>\n",
       "      <td>4995</td>\n",
       "    </tr>\n",
       "    <tr>\n",
       "      <th>1</th>\n",
       "      <td>AIR Blue</td>\n",
       "      <td>2019-05-18</td>\n",
       "      <td>Islamabad</td>\n",
       "      <td>Rahim Yar Khan</td>\n",
       "      <td>09:00:00</td>\n",
       "      <td>07:40:00</td>\n",
       "      <td>1360</td>\n",
       "      <td>1.0</td>\n",
       "      <td>No Info</td>\n",
       "      <td>8372</td>\n",
       "    </tr>\n",
       "    <tr>\n",
       "      <th>2</th>\n",
       "      <td>AIR Blue</td>\n",
       "      <td>2019-06-12</td>\n",
       "      <td>Quetta</td>\n",
       "      <td>Lahore</td>\n",
       "      <td>09:10:00</td>\n",
       "      <td>11:05:00</td>\n",
       "      <td>1555</td>\n",
       "      <td>2.0</td>\n",
       "      <td>No Info</td>\n",
       "      <td>6117</td>\n",
       "    </tr>\n",
       "    <tr>\n",
       "      <th>3</th>\n",
       "      <td>Pearl Air</td>\n",
       "      <td>2019-04-01</td>\n",
       "      <td>Quetta</td>\n",
       "      <td>Lahore</td>\n",
       "      <td>20:20:00</td>\n",
       "      <td>22:55:00</td>\n",
       "      <td>1595</td>\n",
       "      <td>1.0</td>\n",
       "      <td>No Info</td>\n",
       "      <td>7770</td>\n",
       "    </tr>\n",
       "    <tr>\n",
       "      <th>4</th>\n",
       "      <td>Pearl Air</td>\n",
       "      <td>2019-06-06</td>\n",
       "      <td>Quetta</td>\n",
       "      <td>Lahore</td>\n",
       "      <td>17:00:00</td>\n",
       "      <td>10:45:00</td>\n",
       "      <td>1065</td>\n",
       "      <td>1.0</td>\n",
       "      <td>No Info</td>\n",
       "      <td>9187</td>\n",
       "    </tr>\n",
       "  </tbody>\n",
       "</table>\n",
       "</div>"
      ],
      "text/plain": [
       "                           airline date_of_journey     source     destination  \\\n",
       "0  Pakistan International Airlines      2019-06-21   Peshawar          Sukkur   \n",
       "1                         AIR Blue      2019-05-18  Islamabad  Rahim Yar Khan   \n",
       "2                         AIR Blue      2019-06-12     Quetta          Lahore   \n",
       "3                        Pearl Air      2019-04-01     Quetta          Lahore   \n",
       "4                        Pearl Air      2019-06-06     Quetta          Lahore   \n",
       "\n",
       "   dep_time arrival_time  duration  total_stops              additional_info  \\\n",
       "0  10:20:00     11:50:00        90          0.0  In-flight meal not included   \n",
       "1  09:00:00     07:40:00      1360          1.0                      No Info   \n",
       "2  09:10:00     11:05:00      1555          2.0                      No Info   \n",
       "3  20:20:00     22:55:00      1595          1.0                      No Info   \n",
       "4  17:00:00     10:45:00      1065          1.0                      No Info   \n",
       "\n",
       "   price  \n",
       "0   4995  \n",
       "1   8372  \n",
       "2   6117  \n",
       "3   7770  \n",
       "4   9187  "
      ]
     },
     "execution_count": 7,
     "metadata": {},
     "output_type": "execute_result"
    }
   ],
   "source": [
    "train_df.head()"
   ]
  },
  {
   "cell_type": "code",
   "execution_count": 8,
   "id": "29924483-5e9a-4f9d-935c-cf7f5223b47b",
   "metadata": {},
   "outputs": [],
   "source": [
    "def spliting (train_df):\n",
    "    X_train=train_df.iloc[:,:-1]\n",
    "    y_train=train_df.iloc[:,-1]\n",
    "    return X_train,y_train"
   ]
  },
  {
   "cell_type": "code",
   "execution_count": 9,
   "id": "2485c62d-b8a0-4f11-8b0a-aa3855b74520",
   "metadata": {},
   "outputs": [],
   "source": [
    "data=pd.concat([train_df,val_df],axis=0)\n",
    "X_train,y_train=spliting(data)\n",
    "X_test,y_test=spliting(test_df)"
   ]
  },
  {
   "cell_type": "code",
   "execution_count": 10,
   "id": "3d454efc-4ed4-4e3d-83e2-cc4cb5df2054",
   "metadata": {},
   "outputs": [],
   "source": [
    "dt_cols=['date_of_journey','dep_time','arrival_time']\n",
    "int_cols=['duration','total_stops']\n",
    "st_cols=['airline','source','destination','additional_info']\n"
   ]
  },
  {
   "cell_type": "code",
   "execution_count": 11,
   "id": "81228eba-0457-4aba-b019-4f073e09ee41",
   "metadata": {},
   "outputs": [],
   "source": [
    "int_transformer=Pipeline(steps=[\n",
    "    (\"imputer\",SimpleImputer(strategy=\"median\")),\n",
    "    ('scalar',StandardScaler())\n",
    "])\n",
    "\n",
    "st_transformer=Pipeline(steps=[\n",
    "    ('imputer',SimpleImputer(strategy=\"most_frequent\")),\n",
    "    ('encoder',OneHotEncoder(sparse_output=True)), ('scalar',StandardScaler(with_mean=False))\n",
    "])"
   ]
  },
  {
   "cell_type": "code",
   "execution_count": 12,
   "id": "48771dab-f246-4578-8944-5f3e2e1444e6",
   "metadata": {},
   "outputs": [],
   "source": [
    "dt_transformer=Pipeline(steps=[\n",
    "    ('imputer',SimpleImputer(strategy=\"most_frequent\")),\n",
    "    (\"Date_extraction\",DatetimeFeatures(features_to_extract=['month','year','day_of_week','day_of_month'],format='mixed')),\n",
    "    ('scalar',StandardScaler())\n",
    "])\n",
    "ms_transformer=Pipeline(steps=[\n",
    "    ('imputer',SimpleImputer(strategy=\"most_frequent\")),\n",
    "    (\"Date_extraction\",DatetimeFeatures(features_to_extract=['hour','minute'],format='mixed')),\n",
    "    ('scalar',StandardScaler())\n",
    "])\n"
   ]
  },
  {
   "cell_type": "code",
   "execution_count": 13,
   "id": "85958ecd-0a10-475c-a70f-d8d14c97bcae",
   "metadata": {},
   "outputs": [],
   "source": [
    "preprocessor=ColumnTransformer(transformers=[\n",
    "    ('num',int_transformer,int_cols),\n",
    "    ('str',st_transformer,st_cols),\n",
    "    ('dat',dt_transformer,['date_of_journey']),\n",
    "    ('time',ms_transformer,['dep_time','arrival_time'])\n",
    "])"
   ]
  },
  {
   "cell_type": "code",
   "execution_count": 19,
   "id": "9ca58041-b9cc-4b64-8a4b-9c0ed7f6d6d0",
   "metadata": {},
   "outputs": [
    {
     "data": {
      "text/plain": [
       "array([[-1.09640877, -1.22355058,  0.        , ..., -0.16828778,\n",
       "        -0.33178455,  1.49979843],\n",
       "       [ 1.45958065,  0.30588765,  2.7816035 , ..., -1.25620881,\n",
       "        -0.91578376,  0.89762089],\n",
       "       [ 1.85203572,  1.83532587,  2.7816035 , ..., -0.7122483 ,\n",
       "        -0.33178455, -1.21000049],\n",
       "       ...,\n",
       "       [-0.22093208,  0.30588765,  0.        , ...,  1.46359375,\n",
       "        -0.18578475,  0.59653212],\n",
       "       [ 1.85203572,  0.30588765,  0.        , ...,  1.46359375,\n",
       "        -1.93778238,  1.19870966],\n",
       "       [-0.92533861, -1.22355058,  0.        , ...,  0.10369247,\n",
       "         1.12821347, -0.30673418]])"
      ]
     },
     "execution_count": 19,
     "metadata": {},
     "output_type": "execute_result"
    }
   ],
   "source": [
    "preprocessor.fit_transform(X_train)"
   ]
  },
  {
   "cell_type": "code",
   "execution_count": 14,
   "id": "5be89398-f4fe-4836-87f9-f3e95f490139",
   "metadata": {},
   "outputs": [],
   "source": [
    "algorithms={\n",
    "    \"Linear\":LinearRegression(),\n",
    "    \"SVR\":SVR(),\n",
    "    'Random_forest':RandomForestRegressor(n_estimators=100),\n",
    "    \"xgb\":XGBRegressor(n_estimators=100)\n",
    "}"
   ]
  },
  {
   "cell_type": "code",
   "execution_count": 15,
   "id": "5e60d1f9-e238-4fd7-a928-e6eef8ee57a6",
   "metadata": {},
   "outputs": [
    {
     "name": "stdout",
     "output_type": "stream",
     "text": [
      "The score of the Linear is 0.6908295316504267\n",
      "The test score of the  is 0.7106316023957702\n",
      "The score of the SVR is -0.016534799466854988\n",
      "The test score of the  is 0.009493551775098696\n",
      "The score of the Random_forest is 0.9639993999373503\n",
      "The test score of the  is 0.7187317404924431\n",
      "The score of the xgb is 0.9975748062133789\n",
      "The test score of the  is 0.580072283744812\n"
     ]
    }
   ],
   "source": [
    "    \n",
    "for i,j in algorithms.items():     \n",
    "    model=Pipeline(steps=[\n",
    "        ('Pre',preprocessor),\n",
    "        ('Model',j)\n",
    "    ])\n",
    "    model.fit(X_train, y_train)\n",
    "    print ( f\"The score of the {i} is { model.score(X_train,y_train)}\")\n",
    "    print ( f\"The test score of the  is { model.score(X_test,y_test)}\")"
   ]
  },
  {
   "cell_type": "code",
   "execution_count": 20,
   "id": "de200a2a-64a7-40b2-a376-d2303e0217d8",
   "metadata": {},
   "outputs": [
    {
     "name": "stdout",
     "output_type": "stream",
     "text": [
      "The score of the  is 0.9659447583928306\n",
      "The score of the  is 0.7211804976676646\n"
     ]
    }
   ],
   "source": [
    "#xgb is giving the best result , so we will go with xgb\n",
    "model1=Pipeline(steps=[\n",
    "        ('Pre',preprocessor),\n",
    "        ('Model',RandomForestRegressor())\n",
    "    ])\n",
    "\n",
    "model1.fit(X_train, y_train)\n",
    "print ( f\"The score of the  is { model1.score(X_train,y_train)}\")\n",
    "print ( f\"The score of the  is { model1.score(X_test,y_test)}\")"
   ]
  },
  {
   "cell_type": "code",
   "execution_count": null,
   "id": "bf09723e-7710-4a72-bb1b-36606f3e323f",
   "metadata": {},
   "outputs": [],
   "source": []
  },
  {
   "cell_type": "code",
   "execution_count": 21,
   "id": "00f4ed74-d8af-45f2-8ed5-560678c3c331",
   "metadata": {},
   "outputs": [
    {
     "data": {
      "text/plain": [
       "['Model.joblib']"
      ]
     },
     "execution_count": 21,
     "metadata": {},
     "output_type": "execute_result"
    }
   ],
   "source": [
    "joblib.dump(model1,'Model.joblib')"
   ]
  },
  {
   "cell_type": "code",
   "execution_count": null,
   "id": "48114287-2e5f-4320-b20e-a12afaae5ccc",
   "metadata": {},
   "outputs": [],
   "source": []
  },
  {
   "cell_type": "code",
   "execution_count": null,
   "id": "ed9ab550-cdb8-4cc1-ae96-f06a6f88bcc9",
   "metadata": {},
   "outputs": [],
   "source": []
  },
  {
   "cell_type": "code",
   "execution_count": null,
   "id": "1b8f21b5-5439-4b65-bb3d-b50402c04295",
   "metadata": {},
   "outputs": [],
   "source": []
  },
  {
   "cell_type": "code",
   "execution_count": null,
   "id": "c7898dcb-b69c-47b2-8317-ea8d4060eab4",
   "metadata": {},
   "outputs": [],
   "source": []
  },
  {
   "cell_type": "code",
   "execution_count": null,
   "id": "1e197dad-0f5d-4681-b3b8-f6121b1d06dc",
   "metadata": {},
   "outputs": [],
   "source": []
  },
  {
   "cell_type": "code",
   "execution_count": null,
   "id": "e21226fa-87aa-44bf-b87e-c4b3044b5872",
   "metadata": {},
   "outputs": [],
   "source": []
  },
  {
   "cell_type": "code",
   "execution_count": null,
   "id": "ae774b71-0cf1-465b-a850-bb0240d8eae8",
   "metadata": {},
   "outputs": [],
   "source": []
  },
  {
   "cell_type": "code",
   "execution_count": 22,
   "id": "67ee80b7-309c-4d51-9861-6bfe9251cc9e",
   "metadata": {},
   "outputs": [],
   "source": [
    "# import numpy as np\n",
    "# import pandas as pd\n",
    "# import sklearn\n",
    "# from sklearn.impute import SimpleImputer\n",
    "# from sklearn.preprocessing import StandardScaler, OneHotEncoder\n",
    "# from sklearn.pipeline import Pipeline\n",
    "# from sklearn.compose import ColumnTransformer\n",
    "# from sklearn.linear_model import LinearRegression\n",
    "# from sklearn.svm import SVR\n",
    "# from sklearn.ensemble import RandomForestRegressor\n",
    "# from sklearn.metrics import r2_score\n",
    "# from sklearn.model_selection import learning_curve\n",
    "\n",
    "# from feature_engine.datetime import DatetimeFeatures\n",
    "\n",
    "# from xgboost import XGBRegressor\n",
    "\n",
    "# import joblib\n",
    "\n",
    "# import matplotlib.pyplot as plt\n",
    "\n",
    "# train_df = pd.read_csv(\"data/train.csv\")\n",
    "# val_df = pd.read_csv(\"data/val.csv\")\n",
    "# test_df = pd.read_csv(\"data/test.csv\")\n",
    "\n",
    "# def split_data(data):\n",
    "# \tX = data.drop(columns=\"price\")\n",
    "# \ty = data.price.copy()\n",
    "# \treturn (X, y)\n",
    "\n",
    "# X_train, y_train = split_data(train_df)\n",
    "# X_val, y_val = split_data(val_df)\n",
    "# X_test, y_test = split_data(test_df)\n",
    "\n",
    "# dt_cols = [\"date_of_journey\", \"dep_time\", \"arrival_time\"]\n",
    "\n",
    "# num_cols = [\"duration\", \"total_stops\"]\n",
    "\n",
    "# cat_cols = [col for col in X_train.columns if (col not in dt_cols) and (col not in num_cols)]\n",
    "\n",
    "# num_transformer = Pipeline(steps=[\n",
    "# \t(\"imputer\", SimpleImputer(strategy=\"median\")),\n",
    "# \t(\"scaler\", StandardScaler())\n",
    "# ])\n",
    "\n",
    "# cat_transformer = Pipeline(steps=[\n",
    "# \t(\"imputer\", SimpleImputer(strategy=\"most_frequent\")),\n",
    "# \t(\"encoder\", OneHotEncoder(sparse_output=False, handle_unknown=\"ignore\"))\n",
    "# ])\n",
    "\n",
    "# doj_transformer = Pipeline(steps=[\n",
    "# \t(\"imputer\", SimpleImputer(strategy=\"most_frequent\")),\n",
    "# \t(\"extractor\", DatetimeFeatures(features_to_extract=[\"month\", \"week\", \"day_of_week\", \"day_of_month\"], format=\"mixed\")),\n",
    "# \t(\"scaler\", StandardScaler())\n",
    "# ])\n",
    "\n",
    "# time_transformer = Pipeline(steps=[\n",
    "# \t(\"imputer\", SimpleImputer(strategy=\"most_frequent\")),\n",
    "# \t(\"extractor\", DatetimeFeatures(features_to_extract=[\"hour\", \"minute\"], format=\"mixed\")),\n",
    "# \t(\"scaler\", StandardScaler())\n",
    "# ])\n",
    "\n",
    "# preprocessor = ColumnTransformer(transformers=[\n",
    "# \t(\"num\", num_transformer, num_cols),\n",
    "# \t(\"cat\", cat_transformer, cat_cols),\n",
    "# \t(\"doj\", doj_transformer, [\"date_of_journey\"]),\n",
    "# \t(\"time\", time_transformer, [\"dep_time\", \"arrival_time\"])\n",
    "# ])\n",
    "\n",
    "# preprocessor.fit_transform(X_train)\n",
    "\n",
    "# algorithms={\n",
    "#     \"Linear\":LinearRegression(),\n",
    "#     \"SVR\":SVR(),\n",
    "#     'Random_forest':RandomForestRegressor(n_estimators=100),\n",
    "#     \"xgb\":XGBRegressor(n_estimators=100)\n",
    "# }\n",
    "    \n",
    "# for algorithm_name, algorithm in algorithms.items():     \n",
    "#     model = Pipeline(steps=[\n",
    "#         ('Pre', preprocessor),\n",
    "#         ('Model', algorithm)\n",
    "#     ])\n",
    "#     model.fit(X_train, y_train)\n",
    "#     print(f\"The score of the {algorithm_name} is {model.score(X_train, y_train)}\")"
   ]
  },
  {
   "cell_type": "code",
   "execution_count": null,
   "id": "64d1524e-c7cb-4356-bbf3-2bf7e2ea8832",
   "metadata": {},
   "outputs": [],
   "source": []
  },
  {
   "cell_type": "code",
   "execution_count": null,
   "id": "11b56094-279f-4228-89d2-68db90ced56d",
   "metadata": {},
   "outputs": [],
   "source": []
  }
 ],
 "metadata": {
  "kernelspec": {
   "display_name": "Python 3 (ipykernel)",
   "language": "python",
   "name": "python3"
  },
  "language_info": {
   "codemirror_mode": {
    "name": "ipython",
    "version": 3
   },
   "file_extension": ".py",
   "mimetype": "text/x-python",
   "name": "python",
   "nbconvert_exporter": "python",
   "pygments_lexer": "ipython3",
   "version": "3.11.5"
  }
 },
 "nbformat": 4,
 "nbformat_minor": 5
}
